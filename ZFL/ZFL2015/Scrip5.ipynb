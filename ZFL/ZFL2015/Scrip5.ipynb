{
 "metadata": {
  "name": "",
  "signature": "sha256:3bea3bfb1fa29bd9954f898ab1616fa73fdad3bfe00a315b81e5cce49438f3e5"
 },
 "nbformat": 3,
 "nbformat_minor": 0,
 "worksheets": [
  {
   "cells": [
    {
     "cell_type": "heading",
     "level": 1,
     "metadata": {},
     "source": [
      "Python Scripts for Image Analysis 5: Panchromatic sharpening"
     ]
    },
    {
     "cell_type": "code",
     "collapsed": false,
     "input": [
      "run src/dispms -f imagery/ms_Pickering.pix -p [4,3,2] -e 3 -F imagery/pan_Pickering.pix -E 3"
     ],
     "language": "python",
     "metadata": {},
     "outputs": []
    },
    {
     "cell_type": "heading",
     "level": 2,
     "metadata": {},
     "source": [
      "Discrete Wavelet Transform (DWT)"
     ]
    },
    {
     "cell_type": "markdown",
     "metadata": {},
     "source": [
      "###Wavelet transform 1\n",
      "<img src='fig4_11.png'>"
     ]
    },
    {
     "cell_type": "markdown",
     "metadata": {},
     "source": [
      "###Wavelet transform 2\n",
      "<img src='fig4_12.png'>"
     ]
    },
    {
     "cell_type": "code",
     "collapsed": false,
     "input": [
      "run src/dwt -h"
     ],
     "language": "python",
     "metadata": {},
     "outputs": []
    },
    {
     "cell_type": "code",
     "collapsed": false,
     "input": [
      "run src/dwt imagery/ms_Pickering.pix imagery/pan_Pickering.pix"
     ],
     "language": "python",
     "metadata": {},
     "outputs": []
    },
    {
     "cell_type": "code",
     "collapsed": false,
     "input": [
      "!cp imagery/ms_Pickering_pan.pix imagery/ms_Pickering_pan_save.pix"
     ],
     "language": "python",
     "metadata": {},
     "outputs": []
    },
    {
     "cell_type": "code",
     "collapsed": false,
     "input": [
      "run src/dispms -f imagery/ms_Pickering_pan.pix -p [4,3,2] -e 3 -d [400,1200,800,800] -F imagery/ms_Pickering.pix -P [4,3,2] -D [100,300,200,200] -E 3"
     ],
     "language": "python",
     "metadata": {},
     "outputs": []
    },
    {
     "cell_type": "heading",
     "level": 2,
     "metadata": {},
     "source": [
      "A Trous Wavelet Transform"
     ]
    },
    {
     "cell_type": "markdown",
     "metadata": {},
     "source": [
      "<img src='fig5_13.png'>"
     ]
    },
    {
     "cell_type": "code",
     "collapsed": false,
     "input": [
      "run src/atwt imagery/ms_Pickering.pix imagery/pan_Pickering.pix"
     ],
     "language": "python",
     "metadata": {},
     "outputs": []
    },
    {
     "cell_type": "code",
     "collapsed": false,
     "input": [
      "run src/dispms -f imagery/ms_Pickering_pan.pix -p [4,3,2] -e 3 -d [400,1200,800,800] -F imagery/ms_Pickering.pix -P [4,3,2] -D [100,300,200,200] -E 3"
     ],
     "language": "python",
     "metadata": {},
     "outputs": []
    },
    {
     "cell_type": "code",
     "collapsed": false,
     "input": [
      "run src/dispms -f imagery/ms_Pickering_pan.pix -p [4,3,2] -e 3 -d [400,1200,800,800] -F imagery/ms_Pickering_pan_save.pix -P [4,3,2] -D [400,1200,800,800] -E 3"
     ],
     "language": "python",
     "metadata": {},
     "outputs": []
    },
    {
     "cell_type": "code",
     "collapsed": false,
     "input": [],
     "language": "python",
     "metadata": {},
     "outputs": []
    }
   ],
   "metadata": {}
  }
 ]
}