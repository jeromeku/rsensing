{
 "metadata": {
  "name": "",
  "signature": "sha256:49cbfe7c892edab8cc95570d04f346c10683d671eac0cc6af7676de924ecf9cc"
 },
 "nbformat": 3,
 "nbformat_minor": 0,
 "worksheets": [
  {
   "cells": [
    {
     "cell_type": "heading",
     "level": 1,
     "metadata": {},
     "source": [
      "Python Scripts for Image Analysis 1: Unsupervised classification (Clustering)"
     ]
    },
    {
     "cell_type": "markdown",
     "metadata": {},
     "source": [
      "##K-means clustering\n",
      "\n",
      "__A very good introduction to clustering:__\n",
      "\n",
      "http://en.wikipedia.org/wiki/K-means_clustering"
     ]
    },
    {
     "cell_type": "code",
     "collapsed": false,
     "input": [
      "%load src/kmeans.py"
     ],
     "language": "python",
     "metadata": {},
     "outputs": []
    },
    {
     "cell_type": "code",
     "collapsed": false,
     "input": [
      "run src/kmeans"
     ],
     "language": "python",
     "metadata": {},
     "outputs": []
    },
    {
     "cell_type": "code",
     "collapsed": false,
     "input": [
      "run src/dispms -f imagery/june2001_pca_kmeans.tif -c"
     ],
     "language": "python",
     "metadata": {},
     "outputs": []
    },
    {
     "cell_type": "heading",
     "level": 2,
     "metadata": {},
     "source": [
      "Gaussian mixture clustering (Expectation Maximization)"
     ]
    },
    {
     "cell_type": "markdown",
     "metadata": {},
     "source": [
      "__- uses class memberships based on probability density__\n",
      "\n",
      "__- uses mean value and covariance matrix__\n",
      "\n",
      "__- clusters at different sclaes__\n",
      "\n",
      "__- includes spatial information (Markov field)__\n",
      "\n",
      "__- artficial annealing to avoid locla minima__"
     ]
    },
    {
     "cell_type": "code",
     "collapsed": false,
     "input": [
      "run src/em -h"
     ],
     "language": "python",
     "metadata": {},
     "outputs": []
    },
    {
     "cell_type": "code",
     "collapsed": false,
     "input": [
      "run src/em -K 8 -p [1,2,3,4] -d [0,0,800,800] -P imagery/june2001_pca.tif "
     ],
     "language": "python",
     "metadata": {},
     "outputs": []
    },
    {
     "cell_type": "code",
     "collapsed": false,
     "input": [
      "run src/dispms -f imagery/june2001_pca_em.tif -c"
     ],
     "language": "python",
     "metadata": {},
     "outputs": []
    },
    {
     "cell_type": "code",
     "collapsed": false,
     "input": [
      "run src/dispms -f imagery/june2001_pca_emprobs.tif -p [3,3,3] -e 3"
     ],
     "language": "python",
     "metadata": {},
     "outputs": []
    },
    {
     "cell_type": "markdown",
     "metadata": {},
     "source": [
      "##Clustering a change detection image\n",
      "\n",
      "http://fwenvi-idl.blogspot.de/2009/09/clustering-changes.html"
     ]
    },
    {
     "cell_type": "code",
     "collapsed": false,
     "input": [
      "run src/iMad  imagery/june2001.tif imagery/august2001.img"
     ],
     "language": "python",
     "metadata": {},
     "outputs": []
    },
    {
     "cell_type": "code",
     "collapsed": false,
     "input": [
      "run src/dispms -f imagery/MAD(june2001-august2001.img).tif -p [4,5,6] -e 3"
     ],
     "language": "python",
     "metadata": {},
     "outputs": []
    },
    {
     "cell_type": "code",
     "collapsed": false,
     "input": [
      "run src/em -K 4 -p [4,5,6] -d [0,0,500,500] imagery/MAD(june2001-august2001.img).tif"
     ],
     "language": "python",
     "metadata": {},
     "outputs": []
    },
    {
     "cell_type": "code",
     "collapsed": false,
     "input": [
      "run src/dispms -f imagery/MAD(june2001-august2001.img)_em.tif -c"
     ],
     "language": "python",
     "metadata": {},
     "outputs": []
    },
    {
     "cell_type": "code",
     "collapsed": false,
     "input": [],
     "language": "python",
     "metadata": {},
     "outputs": []
    }
   ],
   "metadata": {}
  }
 ]
}