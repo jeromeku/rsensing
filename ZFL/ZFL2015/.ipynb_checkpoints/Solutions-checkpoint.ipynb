{
 "metadata": {
  "name": "",
  "signature": "sha256:be8304daa99d1e415ec82e322e361e3c9a804e5b7a87c18ea4f860b4ecd9825e"
 },
 "nbformat": 3,
 "nbformat_minor": 0,
 "worksheets": [
  {
   "cells": [
    {
     "cell_type": "heading",
     "level": 1,
     "metadata": {},
     "source": [
      "Soltions to the Exercises"
     ]
    },
    {
     "cell_type": "markdown",
     "metadata": {},
     "source": [
      "##Exercise 1.\n",
      "\n",
      "Write a python function to calculate a \"chirp\" (a frequency-modulated sine wave)\n",
      "\n",
      "$ \\sin(2\\pi\\omega(t)\\cdot t)$\n",
      "\n",
      "where $ \\omega(t) = e^{-t/10} $,\n",
      "\n",
      "    def chirp(t):\n",
      "        ...\n",
      "     \n",
      "and apply it to a list of integers with __map__, e.g.,\n",
      "\n",
      "    map(chirp,range(100))    "
     ]
    },
    {
     "cell_type": "code",
     "collapsed": false,
     "input": [
      "import math\n",
      "def chirp(t):\n",
      "    return math.sin(2*math.pi*math.exp(-t/10.)*t)\n",
      "\n",
      "ch = map(chirp,range(100))\n",
      "ch[:10]  "
     ],
     "language": "python",
     "metadata": {},
     "outputs": [
      {
       "metadata": {},
       "output_type": "pyout",
       "prompt_number": 1,
       "text": [
        "[0.0,\n",
        " -0.5629279742058894,\n",
        " -0.7602488652866736,\n",
        " 0.985060309297314,\n",
        " -0.9082225573839386,\n",
        " 0.2037303917643999,\n",
        " 0.9639416727930838,\n",
        " 0.14962222256850283,\n",
        " -0.5601679971106108,\n",
        " -0.8413758984128509]"
       ]
      }
     ],
     "prompt_number": 1
    },
    {
     "cell_type": "markdown",
     "metadata": {},
     "source": [
      "##Exercise 2.\n",
      "\n",
      "Verify the matrix identity $ (A\\cdot B)^\\top = B^\\top\\cdot A^\\top$ with two random square matrices $A$ and $B$."
     ]
    },
    {
     "cell_type": "code",
     "collapsed": false,
     "input": [
      "import numpy as np\n",
      "\n",
      "A = np.mat(np.random.rand(4,4))\n",
      "B = np.mat(np.random.rand(4,4))\n",
      "print (A*B).T - B.T*A.T"
     ],
     "language": "python",
     "metadata": {},
     "outputs": [
      {
       "output_type": "stream",
       "stream": "stdout",
       "text": [
        "[[ 0.  0.  0.  0.]\n",
        " [ 0.  0.  0.  0.]\n",
        " [ 0.  0.  0.  0.]\n",
        " [ 0.  0.  0.  0.]]\n"
       ]
      }
     ],
     "prompt_number": 2
    },
    {
     "cell_type": "markdown",
     "metadata": {},
     "source": [
      "##Exercise 3.\n",
      "\n",
      "Calculate the eigenvalues of the _non-symmteric_ matrix $\\pmatrix{1&2&3\\cr 4&5&6\\cr 7&8&9}$. "
     ]
    },
    {
     "cell_type": "code",
     "collapsed": false,
     "input": [
      "A = np.reshape(np.array(range(1,10)),(3,3))\n",
      "print A \n",
      "print np.linalg.eig(A)[0]"
     ],
     "language": "python",
     "metadata": {},
     "outputs": [
      {
       "output_type": "stream",
       "stream": "stdout",
       "text": [
        "[[1 2 3]\n",
        " [4 5 6]\n",
        " [7 8 9]]\n",
        "[  1.61168440e+01  -1.11684397e+00  -1.30367773e-15]\n"
       ]
      }
     ],
     "prompt_number": 3
    },
    {
     "cell_type": "markdown",
     "metadata": {},
     "source": [
      "## Exercise 4.\n",
      "\n",
      "List all the numbers between $0$ and $10,000$ which are perfect squares: $1, 4, 9 \\dots$"
     ]
    },
    {
     "cell_type": "code",
     "collapsed": false,
     "input": [
      "x = np.array(range(10000))\n",
      "np.where(np.sqrt(x)==np.round(np.sqrt(x)))"
     ],
     "language": "python",
     "metadata": {},
     "outputs": [
      {
       "metadata": {},
       "output_type": "pyout",
       "prompt_number": 4,
       "text": [
        "(array([   0,    1,    4,    9,   16,   25,   36,   49,   64,   81,  100,\n",
        "         121,  144,  169,  196,  225,  256,  289,  324,  361,  400,  441,\n",
        "         484,  529,  576,  625,  676,  729,  784,  841,  900,  961, 1024,\n",
        "        1089, 1156, 1225, 1296, 1369, 1444, 1521, 1600, 1681, 1764, 1849,\n",
        "        1936, 2025, 2116, 2209, 2304, 2401, 2500, 2601, 2704, 2809, 2916,\n",
        "        3025, 3136, 3249, 3364, 3481, 3600, 3721, 3844, 3969, 4096, 4225,\n",
        "        4356, 4489, 4624, 4761, 4900, 5041, 5184, 5329, 5476, 5625, 5776,\n",
        "        5929, 6084, 6241, 6400, 6561, 6724, 6889, 7056, 7225, 7396, 7569,\n",
        "        7744, 7921, 8100, 8281, 8464, 8649, 8836, 9025, 9216, 9409, 9604,\n",
        "        9801]),)"
       ]
      }
     ],
     "prompt_number": 4
    },
    {
     "cell_type": "heading",
     "level": 2,
     "metadata": {},
     "source": [
      "Exercise 5."
     ]
    },
    {
     "cell_type": "code",
     "collapsed": false,
     "input": [
      "import math\n",
      "import matplotlib.pyplot as plt\n",
      "def chirp(t):\n",
      "    return math.sin(2*math.pi*math.exp(-t/10.)*t)\n",
      "\n",
      "ch = map(chirp,range(100))\n",
      "plt.plot(ch)    "
     ],
     "language": "python",
     "metadata": {},
     "outputs": [
      {
       "metadata": {},
       "output_type": "pyout",
       "prompt_number": 5,
       "text": [
        "[<matplotlib.lines.Line2D at 0x59ddc90>]"
       ]
      },
      {
       "metadata": {},
       "output_type": "display_data",
       "png": "[encoded data removed]",
       "text": [
        "<matplotlib.figure.Figure at 0x595b1d0>"
       ]
      }
     ],
     "prompt_number": 5
    },
    {
     "cell_type": "markdown",
     "metadata": {},
     "source": [
      "## Exercise 6.\n",
      "\n",
      "Modify the script __pcatk.py__ to calculate the NDVI of the june 2001 Landsat image.\n",
      "\n",
      "$ NDVI = {band(4)-band(3)\\over band(4)+band(3)} $"
     ]
    },
    {
     "cell_type": "code",
     "collapsed": false,
     "input": [
      "%load src/ndvi.py"
     ],
     "language": "python",
     "metadata": {},
     "outputs": []
    },
    {
     "cell_type": "code",
     "collapsed": false,
     "input": [
      "run src/ndvi"
     ],
     "language": "python",
     "metadata": {},
     "outputs": []
    },
    {
     "cell_type": "code",
     "collapsed": false,
     "input": [
      "run src/dispms -f imagery/ndvi.tif"
     ],
     "language": "python",
     "metadata": {},
     "outputs": []
    },
    {
     "cell_type": "code",
     "collapsed": false,
     "input": [],
     "language": "python",
     "metadata": {},
     "outputs": []
    }
   ],
   "metadata": {}
  }
 ]
}