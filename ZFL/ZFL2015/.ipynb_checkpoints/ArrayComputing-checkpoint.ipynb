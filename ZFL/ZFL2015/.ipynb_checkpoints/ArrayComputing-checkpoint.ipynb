{
 "metadata": {
  "name": "",
  "signature": "sha256:9947275579cdca3efff64b5328cb7d47eabc3e4925f6ec893982932b7e0c1f52"
 },
 "nbformat": 3,
 "nbformat_minor": 0,
 "worksheets": [
  {
   "cells": [
    {
     "cell_type": "heading",
     "level": 1,
     "metadata": {},
     "source": [
      "Array-Oriented Computing"
     ]
    },
    {
     "cell_type": "markdown",
     "metadata": {},
     "source": [
      "The package __numpy__ turns Python into an array-oriented numerical processing language, every bit as powerful as IDL or Matlab."
     ]
    },
    {
     "cell_type": "code",
     "collapsed": false,
     "input": [
      "import numpy as np"
     ],
     "language": "python",
     "metadata": {},
     "outputs": []
    },
    {
     "cell_type": "code",
     "collapsed": false,
     "input": [
      "a = np.random.rand(3,3)"
     ],
     "language": "python",
     "metadata": {},
     "outputs": []
    },
    {
     "cell_type": "code",
     "collapsed": false,
     "input": [
      "print a\n",
      "type(a)"
     ],
     "language": "python",
     "metadata": {},
     "outputs": []
    },
    {
     "cell_type": "code",
     "collapsed": false,
     "input": [
      "a = np.matrix(a)\n",
      "print a\n",
      "type(a)"
     ],
     "language": "python",
     "metadata": {},
     "outputs": []
    },
    {
     "cell_type": "code",
     "collapsed": false,
     "input": [
      "a.T # transpose of a"
     ],
     "language": "python",
     "metadata": {},
     "outputs": []
    },
    {
     "cell_type": "markdown",
     "metadata": {},
     "source": [
      "The matrix product $ a^{-1} \\cdot a = I$, where $I$ is the _identity matrix_."
     ]
    },
    {
     "cell_type": "code",
     "collapsed": false,
     "input": [
      "a.I * a"
     ],
     "language": "python",
     "metadata": {},
     "outputs": []
    },
    {
     "cell_type": "markdown",
     "metadata": {},
     "source": [
      "The numpy package can also __diagonalize a symmetrix matrix__."
     ]
    },
    {
     "cell_type": "code",
     "collapsed": false,
     "input": [
      "a = a + a.T # a symmetric matrix\n",
      "print a"
     ],
     "language": "python",
     "metadata": {},
     "outputs": []
    },
    {
     "cell_type": "code",
     "collapsed": false,
     "input": [
      "eigenvalues, eigenvectors = np.linalg.eigh(a)\n",
      "print 'Eigenvalues:\\n',eigenvalues\n",
      "print 'Eigenvectors\\n',eigenvectors"
     ],
     "language": "python",
     "metadata": {},
     "outputs": []
    },
    {
     "cell_type": "markdown",
     "metadata": {},
     "source": [
      "The eigenvectors $V_i$, $i=1\\dots 3$, are the columns of the above matrix and they are _orthonormal_, that is, \n",
      "\n",
      "$$V_i^\\top\\cdot V_j = \\cases{ 1 & if $i=j$\\cr 0 & otherwise} $$"
     ]
    },
    {
     "cell_type": "code",
     "collapsed": false,
     "input": [
      "V = eigenvectors\n",
      "V1 = V[:,0]\n",
      "V2 = V[:,1]\n",
      "print V1.T*V1\n",
      "print V1.T*V2"
     ],
     "language": "python",
     "metadata": {},
     "outputs": []
    },
    {
     "cell_type": "markdown",
     "metadata": {},
     "source": [
      "Here is the diagonalized matrix. The diagonal elements are the eigenvalues, the off diagonal elements are zero apart from rounding errors."
     ]
    },
    {
     "cell_type": "code",
     "collapsed": false,
     "input": [
      "print V.T * a * V"
     ],
     "language": "python",
     "metadata": {},
     "outputs": []
    },
    {
     "cell_type": "heading",
     "level": 2,
     "metadata": {},
     "source": [
      "Array slicing"
     ]
    },
    {
     "cell_type": "code",
     "collapsed": false,
     "input": [
      "a = np.random.rand(10)\n",
      "print a"
     ],
     "language": "python",
     "metadata": {},
     "outputs": []
    },
    {
     "cell_type": "code",
     "collapsed": false,
     "input": [
      "print a[0:5] # the first 5 elements of a"
     ],
     "language": "python",
     "metadata": {},
     "outputs": []
    },
    {
     "cell_type": "code",
     "collapsed": false,
     "input": [
      "print a[:5] # same as above"
     ],
     "language": "python",
     "metadata": {},
     "outputs": []
    },
    {
     "cell_type": "code",
     "collapsed": false,
     "input": [
      "print a[:] # the complete array, same as a[0:11]"
     ],
     "language": "python",
     "metadata": {},
     "outputs": []
    },
    {
     "cell_type": "code",
     "collapsed": false,
     "input": [
      "print a[-1] # the last element of a"
     ],
     "language": "python",
     "metadata": {},
     "outputs": []
    },
    {
     "cell_type": "code",
     "collapsed": false,
     "input": [
      "print a[0:11:2] # stride = 2, every second element of a"
     ],
     "language": "python",
     "metadata": {},
     "outputs": []
    },
    {
     "cell_type": "code",
     "collapsed": false,
     "input": [
      "print a[::2] # same as above"
     ],
     "language": "python",
     "metadata": {},
     "outputs": []
    },
    {
     "cell_type": "code",
     "collapsed": false,
     "input": [
      "a[::]  # stride = 1, again the complete array"
     ],
     "language": "python",
     "metadata": {},
     "outputs": []
    },
    {
     "cell_type": "code",
     "collapsed": false,
     "input": [
      "print a[::-1] # same as a[10::-1], the reversed array"
     ],
     "language": "python",
     "metadata": {},
     "outputs": []
    },
    {
     "cell_type": "code",
     "collapsed": false,
     "input": [
      "a.shape"
     ],
     "language": "python",
     "metadata": {},
     "outputs": []
    },
    {
     "cell_type": "code",
     "collapsed": false,
     "input": [
      "a=np.reshape(a,(2,5))\n",
      "a.shape"
     ],
     "language": "python",
     "metadata": {},
     "outputs": []
    },
    {
     "cell_type": "code",
     "collapsed": false,
     "input": [
      "print a"
     ],
     "language": "python",
     "metadata": {},
     "outputs": []
    },
    {
     "cell_type": "code",
     "collapsed": false,
     "input": [
      "print a[0,:] # the first row of a\n",
      "print a[:,:2] # the fist two columns of a"
     ],
     "language": "python",
     "metadata": {},
     "outputs": []
    },
    {
     "cell_type": "code",
     "collapsed": false,
     "input": [
      "b = a.ravel() # flattened array\n",
      "print b\n",
      "b.shape"
     ],
     "language": "python",
     "metadata": {},
     "outputs": []
    },
    {
     "cell_type": "heading",
     "level": 2,
     "metadata": {},
     "source": [
      "Array indexing"
     ]
    },
    {
     "cell_type": "code",
     "collapsed": false,
     "input": [
      "a = np.array(range(10))**2 - 1\n",
      "a"
     ],
     "language": "python",
     "metadata": {},
     "outputs": []
    },
    {
     "cell_type": "code",
     "collapsed": false,
     "input": [
      "# where are the elements of a divisible by 6?\n",
      "idx = np.where(a%6==0)\n",
      "print idx\n",
      "print a[idx]"
     ],
     "language": "python",
     "metadata": {},
     "outputs": []
    },
    {
     "cell_type": "heading",
     "level": 2,
     "metadata": {},
     "source": [
      "Arrays and multi-spectral raster images"
     ]
    },
    {
     "cell_type": "markdown",
     "metadata": {},
     "source": [
      "Consider a $400 \\times 400$ pixel ASTER VNIR image stored in BIP format. We can simulate it with a $3\\times 400\\times 400$ ndarray of random bytes:"
     ]
    },
    {
     "cell_type": "code",
     "collapsed": false,
     "input": [
      "image = np.random.randint(0,255,(3,400,400)).astype(np.uint8)"
     ],
     "language": "python",
     "metadata": {},
     "outputs": []
    },
    {
     "cell_type": "code",
     "collapsed": false,
     "input": [
      "type(image[0,0,0])"
     ],
     "language": "python",
     "metadata": {},
     "outputs": []
    },
    {
     "cell_type": "markdown",
     "metadata": {},
     "source": [
      "To extract the first band, we start at the first byte and then read evey third byte to the end of the array:"
     ]
    },
    {
     "cell_type": "code",
     "collapsed": false,
     "input": [
      "band1 = image[0::3]"
     ],
     "language": "python",
     "metadata": {},
     "outputs": []
    },
    {
     "cell_type": "markdown",
     "metadata": {},
     "source": [
      "band1 is still a 3-dimensional array:"
     ]
    },
    {
     "cell_type": "code",
     "collapsed": false,
     "input": [
      "band1.shape"
     ],
     "language": "python",
     "metadata": {},
     "outputs": []
    },
    {
     "cell_type": "markdown",
     "metadata": {},
     "source": [
      "but we can reshape it if we wish:"
     ]
    },
    {
     "cell_type": "code",
     "collapsed": false,
     "input": [
      "band1 = np.reshape(band1,(400,400))\n",
      "band1.shape"
     ],
     "language": "python",
     "metadata": {},
     "outputs": []
    },
    {
     "cell_type": "code",
     "collapsed": false,
     "input": [
      "print band1[:10,:10]"
     ],
     "language": "python",
     "metadata": {},
     "outputs": []
    },
    {
     "cell_type": "heading",
     "level": 2,
     "metadata": {},
     "source": [
      "Two-dimensional plotting"
     ]
    },
    {
     "cell_type": "markdown",
     "metadata": {},
     "source": [
      "__matplotlib.pyplot__ is a collection of command style functions that make matplotlib work like Matlab. Each pyplot function makes some change to a figure: eg, create a figure, create a plotting area in a figure, plot some lines in a plotting area, decorate the plot with labels, etc.... __matplotlib.pyplot__ is stateful, in that it keeps track of the current figure and plotting area, and the plotting functions are directed to the current axes"
     ]
    },
    {
     "cell_type": "code",
     "collapsed": false,
     "input": [
      "import matplotlib.pyplot as plt"
     ],
     "language": "python",
     "metadata": {},
     "outputs": []
    },
    {
     "cell_type": "code",
     "collapsed": false,
     "input": [
      "x = np.linspace(0,20,50)\n",
      "y = np.exp(-x/5)*np.sin(x)\n",
      "zip(x,y)"
     ],
     "language": "python",
     "metadata": {},
     "outputs": []
    },
    {
     "cell_type": "code",
     "collapsed": false,
     "input": [
      "plt.figure()\n",
      "plt.plot(x,y,'r.')\n",
      "plt.plot(x,y,'g-')\n",
      "plt.grid(True)\n",
      "plt.text(7,0.3,'local max of $e^x\\sin(x)$')\n",
      "plt.show()"
     ],
     "language": "python",
     "metadata": {},
     "outputs": []
    },
    {
     "cell_type": "markdown",
     "metadata": {},
     "source": [
      "We can also plot raster images:"
     ]
    },
    {
     "cell_type": "code",
     "collapsed": false,
     "input": [
      "plt.imshow(band1)"
     ],
     "language": "python",
     "metadata": {},
     "outputs": []
    },
    {
     "cell_type": "markdown",
     "metadata": {},
     "source": [
      "## Exercises\n",
      "\n",
      "__2)__ Verify the matrix identity $ (A\\cdot B)^\\top = B^\\top\\cdot A^\\top$ with two random square matrices $A$ and $B$.\n",
      "\n",
      "\n",
      "__3)__ Calculate the eigenvalues of the _non-symmteric_ matrix $\\pmatrix{1&2&3\\cr 4&5&6\\cr 7&8&9}$. \n",
      "  Hint: http://docs.scipy.org/doc/numpy/reference/routines.linalg.html\n",
      "  \n",
      "__4)__ List all the numbers between $0$ and $10,000$ which are perfect squares: $1, 4, 9 \\dots$\n",
      "\n",
      "__5)__ Plot the \"chirp\" from Exercise 1."
     ]
    },
    {
     "cell_type": "code",
     "collapsed": false,
     "input": [],
     "language": "python",
     "metadata": {},
     "outputs": []
    }
   ],
   "metadata": {}
  }
 ]
}