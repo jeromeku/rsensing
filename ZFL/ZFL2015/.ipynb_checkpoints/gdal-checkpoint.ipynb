{
 "metadata": {
  "name": "",
  "signature": "sha256:027134ff56b8ed21e587278458dd5f1b268d5d28fb37f24f41416c8e5b60a06a"
 },
 "nbformat": 3,
 "nbformat_minor": 0,
 "worksheets": [
  {
   "cells": [
    {
     "cell_type": "heading",
     "level": 1,
     "metadata": {},
     "source": [
      "OSGEO GDAL/OGR"
     ]
    },
    {
     "cell_type": "markdown",
     "metadata": {},
     "source": [
      "__osgeo__ Open Source Geospatial Foundation\n",
      "\n",
      "__gdal__ Geospatial Data Abstraction Libraray\n",
      "\n",
      "__ogr__ Simple Features Library"
     ]
    },
    {
     "cell_type": "heading",
     "level": 2,
     "metadata": {},
     "source": [
      "GDAL Utilities"
     ]
    },
    {
     "cell_type": "markdown",
     "metadata": {},
     "source": [
      "http://www.gdal.org/gdal_utilities.html"
     ]
    },
    {
     "cell_type": "code",
     "collapsed": false,
     "input": [
      "!gdalinfo imagery/dem_utm"
     ],
     "language": "python",
     "metadata": {},
     "outputs": []
    },
    {
     "cell_type": "code",
     "collapsed": false,
     "input": [
      "!gdaldem"
     ],
     "language": "python",
     "metadata": {},
     "outputs": []
    },
    {
     "cell_type": "code",
     "collapsed": false,
     "input": [
      "!gdaldem hillshade -az 145 -alt 50 imagery/dem_utm imagery/hillshade"
     ],
     "language": "python",
     "metadata": {},
     "outputs": []
    },
    {
     "cell_type": "code",
     "collapsed": false,
     "input": [
      "run src/dispms -f imagery/hillshade -d [1000,2800,1000,1000] -e 4"
     ],
     "language": "python",
     "metadata": {},
     "outputs": []
    },
    {
     "cell_type": "markdown",
     "metadata": {},
     "source": [
      "##Matrix algebra\n",
      "\n",
      "The __sum__ of two vectors:\n",
      "\n",
      "$$\n",
      "x + y = \\pmatrix{x_1\\cr x_2}+\\pmatrix{y_1\\cr y_2}=\\pmatrix{x_1+y_1\\cr x_2+y_2},\n",
      "$$\n",
      "\n",
      "The __transpose__ of $x$ is \n",
      "\n",
      "$$\n",
      "x^\\top = (x_1, x_2).\n",
      "$$\n",
      "\n",
      "The  __inner product__:\n",
      "\n",
      "$$\n",
      "x^\\top\\cdot y =(x_1,x_2) \\pmatrix{y_1\\cr y_2}=x_1y_1+x_2y_2 = xy\\cos(\\theta).\n",
      "$$\n",
      "\n",
      "If $x^\\top\\cdot y = 0$, then $\\theta=90\\deg$ and $x$ and $y$ are __orthogonal__.\n",
      "\n",
      "When a matrix is multiplied with a vector, the result is another vector:\n",
      "\n",
      "$$\n",
      " A  x = \\pmatrix{a_{11} & a_{12}\\cr a_{21} & a_{22}} \\pmatrix{x_1\\cr x_2}=\n",
      "\\pmatrix{a_{11}x_1+a_{12}x_2\\cr a_{21}x_1+a_{22}x_2}\n",
      "=x_1\\pmatrix{a_{11}\\cr a_{21}}+x_2\\pmatrix{a_{11}\\cr a_{22}} .\n",
      "$$\n",
      "\n",
      "\n"
     ]
    },
    {
     "cell_type": "code",
     "collapsed": false,
     "input": [
      "import numpy as np\n",
      "A = np.mat([[1,2],[3,4]])\n",
      "x = np.mat([[5],[6]])\n",
      "print A\n",
      "print ''\n",
      "print x\n",
      "print  ''\n",
      "print A*x"
     ],
     "language": "python",
     "metadata": {},
     "outputs": [
      {
       "output_type": "stream",
       "stream": "stdout",
       "text": [
        "[[1 2]\n",
        " [3 4]]\n",
        "\n",
        "[[5]\n",
        " [6]]\n",
        "\n",
        "[[17]\n",
        " [39]]\n"
       ]
      }
     ],
     "prompt_number": 5
    },
    {
     "cell_type": "heading",
     "level": 2,
     "metadata": {},
     "source": [
      "The Data Matrix"
     ]
    },
    {
     "cell_type": "markdown",
     "metadata": {},
     "source": [
      "Pixel vector (observation) for $N$-band multispectral image with $n$ pixels:\n",
      "$$\n",
      "{\\bf z}^i = \\pmatrix{z^i_1 \\cr z^i_2 \\cr \\vdots \\cr z^i_N}, \\quad i=1\\dots n.\n",
      "$$\n",
      "\n",
      "\n",
      "__Data matrix:__\n",
      "$$\n",
      "{\\bf Z} = \\pmatrix{z^1_1 & z^1_2 & \\cdots & z^1_N\\cr\n",
      "             z^2_1 & z^2_2 & \\cdots & z^2_N\\cr\n",
      "             \\vdots & \\vdots & \\vdots & \\vdots \\cr\n",
      "             z^n_1 & z^n_2 & \\cdots & z^n_N\\cr}.\n",
      "$$\n",
      "\n",
      "__Column centered data matrix:__\n",
      "$$\n",
      "{\\bf Z_c} = \\pmatrix{z^1_1 - \\bar z_1 & z^1_2 -\\bar z_2 & \\cdots & z^1_N - \\bar z_N\\cr\n",
      "             z^2_1 - \\bar z_1 & z^2_2 -\\bar z_2& \\cdots & z^2_N - \\bar z_N\\cr\n",
      "             \\vdots & \\vdots & \\vdots & \\vdots \\cr\n",
      "             z^n_1 - \\bar z_1 & z^n_2 - \\bar z_2& \\cdots & z^n_N - \\bar z_N\\cr}.\n",
      "$$\n",
      "\n",
      "\n",
      "\n",
      "$(N\\times N)$ __covariance matrix:__\n",
      "\n",
      "$$\n",
      "{\\bf \\Sigma} = {1\\over n}{\\bf Z_c}^\\top \\cdot {\\bf Z_c},\n",
      "$$\n",
      "\n",
      "$$\n",
      "\\Sigma_{ij} = {1\\over n}\\sum_{k=1}^n (z^k_i - \\bar z_i)(z^k_j - \\bar z_j)\n",
      "$$"
     ]
    },
    {
     "cell_type": "code",
     "collapsed": false,
     "input": [
      "import auxil.auxil as auxil\n",
      "import numpy as np\n",
      "from osgeo import gdal\n",
      "from osgeo.gdalconst import GA_ReadOnly\n",
      "\n",
      "\n",
      "gdal.AllRegister()\n",
      "infile = auxil.select_infile() \n",
      "                  \n",
      "inDataset = gdal.Open(infile,GA_ReadOnly)     \n",
      "cols = inDataset.RasterXSize\n",
      "rows = inDataset.RasterYSize    \n",
      "bands = inDataset.RasterCount\n",
      "\n",
      "\n",
      "#  data matrix\n",
      "Z = np.zeros((rows*cols,bands))                              \n",
      "for k in range(bands):\n",
      "    band = inDataset.GetRasterBand(k+1)\n",
      "    tmp = band.ReadAsArray(0,0,cols,rows).astype(float).ravel()\n",
      "    Z[:,k] = tmp - np.mean(tmp)\n",
      "        \n",
      "#  covariance matrix\n",
      "Sigma = np.mat(Z).T*np.mat(Z)/(cols*rows)   \n",
      "    \n",
      "print Sigma[:4,:4]\n",
      "\n",
      "print np.linalg.det(Sigma)\n"
     ],
     "language": "python",
     "metadata": {},
     "outputs": []
    },
    {
     "cell_type": "heading",
     "level": 2,
     "metadata": {},
     "source": [
      "Principal components analysis"
     ]
    },
    {
     "cell_type": "markdown",
     "metadata": {},
     "source": [
      "The principal components transformation, also called _principal components analysis_ (PCA),\n",
      "generates linear combinations of multi\\-spectral\n",
      "pixel intensities which are mutually uncorrelated and which have maximum variance. This is achieved by diagonalizing the covariance matrix, that is, solving the eigenvalue problem:\n",
      "\n",
      "\n",
      "$$\n",
      "{\\bf\\Sigma}\\cdot{\\bf v} = \\lambda{\\bf v}\n",
      "$$\n",
      "\n",
      "There are $N$ solutions, the eigenvalue-eigenvector pairs $(\\lambda_i,{\\bf v}_i), \\quad i=1\\dots N$.\n",
      "\n",
      "The $i$th principal component is $ {\\bf x}_i^\\top = {\\bf Z}\\cdot{\\bf v_i} $ $\\quad i=1\\dots n$,\n",
      "\n",
      "$$\n",
      "{\\bf X} = {\\bf Z}\\cdot {\\bf V} = {\\bf Z}\\cdot ({\\bf v}_1 \\dots {\\bf v}_N )\n",
      "$$\n",
      "\n",
      "and its variance is \n",
      "\n",
      "$${\\rm var}({\\bf x}_i) = \\lambda_i, \\quad i=1\\dots N.$$\n",
      "\n",
      "The principal components are _uncorrelated_, \n",
      "\n",
      "$${\\rm cov}({\\bf x}_i,{\\bf x}_j) = 0,\\quad i\\ne j.$$"
     ]
    },
    {
     "cell_type": "code",
     "collapsed": false,
     "input": [
      "%load src/pcatk.py"
     ],
     "language": "python",
     "metadata": {},
     "outputs": []
    },
    {
     "cell_type": "code",
     "collapsed": false,
     "input": [
      "run src/pcatk"
     ],
     "language": "python",
     "metadata": {},
     "outputs": []
    },
    {
     "cell_type": "code",
     "collapsed": false,
     "input": [
      "run src/dispms -f imagery/june2001_pca.tif -p [1,2,3] -e 4 -F imagery/june2001_pca.tif -P [4,5,6] -E 4"
     ],
     "language": "python",
     "metadata": {},
     "outputs": []
    },
    {
     "cell_type": "markdown",
     "metadata": {},
     "source": [
      "##Image compression and reconstuction\n",
      "\n",
      "If the original multispectral channels are highly correlated, as is often\n",
      "the case, then the first few principal components will usually account for a very high percentage of the\n",
      "total variance in the image. For example, a color composite of the first three principal\n",
      "components of a LANDSAT 7 ETM+ scene displays essentially all of the information\n",
      "contained in the six non-thermal spectral components in one single image.\n",
      "The principal components transformation\n",
      "is therefore often used for dimensionality reduction of imagery\n",
      "prior, for instance, to land cover classification.\n",
      "\n",
      "Alternatively, one can think of the first few principal components as being the main\n",
      "contributing factors to the observed image and then reconstruct the image\n",
      "from those factors. We can recover the original image losslessly  by inverting,\n",
      "\n",
      "$$\n",
      "{\\bf Z} = {\\bf X}\\cdot {\\bf V}^{-1} = {\\bf X}\\cdot {\\bf V}^\\top\n",
      "$$\n",
      "\n",
      "Suppose that the first $r$ principal components account for (explain) most of the variance in the data and\n",
      "let \n",
      "\n",
      "$${\\bf V} = ({\\bf V}_r, {\\bf V}_{r-})$$, \n",
      "\n",
      "and similarly\n",
      "\n",
      "$${\\bf X} = ({\\bf X}_r, {\\bf X}_{r-}).$$\n",
      "\n",
      "Now reconstruct $Z$ \n",
      "\n",
      "$$\n",
      "{\\bf Z} \\approx {\\bf Z}_r = {\\bf X}_r \\cdot {\\bf V}_r^\\top\n",
      "$$\n"
     ]
    },
    {
     "cell_type": "code",
     "collapsed": false,
     "input": [
      "%load src/recon.py"
     ],
     "language": "python",
     "metadata": {},
     "outputs": []
    },
    {
     "cell_type": "code",
     "collapsed": false,
     "input": [
      "run src/recon.py"
     ],
     "language": "python",
     "metadata": {},
     "outputs": []
    },
    {
     "cell_type": "code",
     "collapsed": false,
     "input": [
      "run src/dispms -f imagery/june2001_recon.tif -p [4,5,6] -d [0,0,400,400]  -e 4 -F imagery/june2001.tif -p [4,5,6] -E 4 -D [0,0,400,400]"
     ],
     "language": "python",
     "metadata": {},
     "outputs": []
    },
    {
     "cell_type": "markdown",
     "metadata": {},
     "source": [
      "__The compression is a factor of 3, but note that the covariance matrix of the reconstructed image is singular (has rank 2)!__"
     ]
    },
    {
     "cell_type": "markdown",
     "metadata": {},
     "source": [
      "##Debugging"
     ]
    },
    {
     "cell_type": "code",
     "collapsed": false,
     "input": [
      "%pdb"
     ],
     "language": "python",
     "metadata": {},
     "outputs": [
      {
       "output_type": "stream",
       "stream": "stdout",
       "text": [
        "Automatic pdb calling has been turned ON\n"
       ]
      }
     ],
     "prompt_number": 2
    },
    {
     "cell_type": "code",
     "collapsed": false,
     "input": [
      "%load src/pcatk"
     ],
     "language": "python",
     "metadata": {},
     "outputs": [],
     "prompt_number": 1
    },
    {
     "cell_type": "markdown",
     "metadata": {},
     "source": [
      "##Exercise\n",
      "\n",
      "__6)__ Modify the script __pcatk.py__ to calculate the NDVI of the June 2001 Landsat image.\n",
      "\n",
      "$ NDVI = {band(4)-band(3)\\over band(4)+band(3)} $"
     ]
    },
    {
     "cell_type": "code",
     "collapsed": false,
     "input": [],
     "language": "python",
     "metadata": {},
     "outputs": []
    }
   ],
   "metadata": {}
  }
 ]
}