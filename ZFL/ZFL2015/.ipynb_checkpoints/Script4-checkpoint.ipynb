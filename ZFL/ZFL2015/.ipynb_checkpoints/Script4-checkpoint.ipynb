{
 "metadata": {
  "name": "",
  "signature": "sha256:2190698482cc10e87a12514339e2c873e640873cc82032ae3bf185ef09ac982d"
 },
 "nbformat": 3,
 "nbformat_minor": 0,
 "worksheets": [
  {
   "cells": [
    {
     "cell_type": "heading",
     "level": 1,
     "metadata": {},
     "source": [
      "Python Scripts for Image Analysis 4: Feature detection with OpenCV"
     ]
    },
    {
     "cell_type": "heading",
     "level": 2,
     "metadata": {},
     "source": [
      "The Sobel edge detector"
     ]
    },
    {
     "cell_type": "markdown",
     "metadata": {},
     "source": [
      "The __gradient operator__:\n",
      "$$\n",
      "\\nabla = {\\partial\\over\\partial\\ x} =  i{\\partial\\over\\partial x_1}+\n",
      " j{\\partial\\over\\partial x_2},\n",
      "$$\n",
      "\n",
      "where $i$ and $j$ are unit vectors in the image plane in the horizontal and vertical directions,\n",
      "respectively. In a two-dimensional image represented\n",
      "by the continuous scalar function $g(x_1,x_2) = g(x)$,\n",
      "$\\nabla g(x)$ is a vector in the direction of the maximum rate of change\n",
      "of gray-scale intensity.\n",
      "\n",
      "Of course, the intensity values are actually discrete, so\n",
      "the partial derivatives must be approximated. The __Sobel operators__ are:\n",
      "\n",
      "\n",
      "$$\\eqalign{\n",
      "{\\partial g(x)\\over\\partial x_1}\\Big|_{\\ x = (i,j)} &\\approx\n",
      "[g(i-1,j-1)+2g(i-1,j)+g(i-1,j+1)]\\cr\n",
      "&-[g(i+1,j-1)+2g(i+1,j)+g(i+1,j+1)]\n",
      "=:\\ \\nabla_1(x)}\n",
      "$$\n",
      "\n",
      "$$\\eqalign{\n",
      "{\\partial g(x)\\over\\partial x_2}\\Big|_{\\ x = (i,j)} &\\approx\n",
      "[g(i-1,j-1)+2g(i,j-1)+g(i+1,j-1)]\\cr\n",
      "&-[g(i-1,j+1)+2g(i,j+1)+g(i+1,j+1)]\n",
      " =:\\ \\nabla_2( x),}\n",
      "$$\n",
      "\n",
      "which are equivalent to the two-dimensional spatial filters\n",
      "\n",
      "$$\n",
      "h_1=\\pmatrix{1&0&-1\\cr 2&0&-2\\cr 1&0&-1}\\quad{\\rm and}\\quad h_2=\\pmatrix{1&2&1\\cr 0&0&0\\cr -1&-2&-1} \\ ,\n",
      "$$\n",
      "\n",
      "respectively. The magnitude of the gradient at pixel $x=(i,j)$ is\n",
      "\n",
      "$$\n",
      "\\|\\nabla g(i,j))\\|=\\sqrt{\\nabla_1(x)^2+\\nabla_2(x)^2}.\n",
      "$$"
     ]
    },
    {
     "cell_type": "code",
     "collapsed": false,
     "input": [
      "%load src/sobel"
     ],
     "language": "python",
     "metadata": {},
     "outputs": []
    },
    {
     "cell_type": "code",
     "collapsed": false,
     "input": [
      "run src/dispms -f imagery/sobeledges.tif -d [0,0,400,400] -p [1,1,1] -e 3 -F imagery/sobeledges.tif -D [0,0,400,400] -P [2,2,2] -E 3"
     ],
     "language": "python",
     "metadata": {},
     "outputs": []
    },
    {
     "cell_type": "heading",
     "level": 2,
     "metadata": {},
     "source": [
      "Corner detection"
     ]
    },
    {
     "cell_type": "markdown",
     "metadata": {},
     "source": [
      "In a gray-scale image, the local (scalar) variogram  in a neighborhood\n",
      "of the pixel position $x$ can be estimated as\n",
      "\n",
      "$$\n",
      "\\gamma(  h) = \\left\\langle (g(  x) - g(  x +   h))^2\\right\\rangle,\n",
      "$$\n",
      "\n",
      "where $\\langle\\cdot\\rangle$ signifies the average over the pixel's neighborhood.\n",
      "A corner, or in general some interesting feature such as a localized bright or dark spot, will be characterized by a large value for $\\gamma(  h)$ in all\n",
      "directions of the displacement vector $  h$. An edge, on the other hand, would exhibit a large variation only in the directions nearly orthogonal to itself, and featureless regions would have small variations in all directions.\n",
      "The first-order Taylor series approximation to $g(  x +   h)$ is\n",
      "\n",
      "$$\n",
      "g(  x +   h) \\approx g(  x) +   h^\\top {\\partial g(  x)\\over\\partial   x} = g(  x) +   h^\\top\\nabla g(  x).\n",
      "$$\n",
      "\n",
      "With this, the variogram $\\gamma(  h)$ can be approximately written as\n",
      "\n",
      "$$\n",
      "\\gamma(  h) \\approx \\left\\langle \\left(  h^\\top\\nabla g(  x)\\right)^2\\right\\rangle,\n",
      "$$\n",
      "\n",
      "or, expanding the quadratic term,\n",
      "\n",
      "$$\\eqalign{\n",
      "\\gamma(  h) &\\approx    h^\\top\\left\\langle\\nabla g(  x) \\nabla g(  x)^\\top\\right\\rangle   h \\cr\n",
      "&\\approx   h^\\top\\pmatrix{\\langle\\nabla_1(  x)^2\\rangle &  \\langle\\nabla_1(  x)\\nabla_2(  x)\\rangle \\cr\n",
      "\\langle\\nabla_1(  x)\\nabla_2(  x)\\rangle  & \\langle\\nabla_2(  x)^2\\rangle}  h\n",
      " =   h^\\top  A  h,}\n",
      "$$\n",
      "\n",
      "where $\\nabla_i(  x)$, $i=1,2$,  are the Sobel gradient operators.\n",
      "The matrix $  A$ is symmetric and also positive definite for sufficiently large\n",
      "neighborhoods. In its principal axis coordinate system, therefore, we can write\n",
      "\n",
      "$$\n",
      "\\gamma(  h) \\approx   h^\\top\\pmatrix{\\lambda_1 & 0 \\cr 0 & \\lambda_2}  h = \\lambda_1 h_1^2 + \\lambda_2 h_2^2,\n",
      "$$\n",
      "\n",
      "where $\\lambda_1$ and $\\lambda_2$ are the real positive eigenvalues of $  A$.\n",
      "If the variogram $\\gamma(  h)$ is to be large for all directions $  h$, then\n",
      "__both__ eigenvalues must be large. The OpenCV filter function __cornerMinEigenVal()__ calculates the\n",
      "minimum eigenvalue of $  A$  for a square neighborhood of each pixel in a scene, returning the result as a floating\n",
      "point image. This image can then be thresholded to distinguish significant corners or other features. "
     ]
    },
    {
     "cell_type": "code",
     "collapsed": false,
     "input": [
      "%load src/corner"
     ],
     "language": "python",
     "metadata": {},
     "outputs": []
    },
    {
     "cell_type": "code",
     "collapsed": false,
     "input": [
      "run src/dispms -f imagery/corners.tif -e 3 -d [0,0,200,200] -F imagery/june2001.tif -P [1,1,1] -D [0,0,200,200] -E 3"
     ],
     "language": "python",
     "metadata": {},
     "outputs": []
    },
    {
     "cell_type": "markdown",
     "metadata": {},
     "source": [
      "##Canny edge detection\n",
      "\n",
      "See http://docs.opencv.org/doc/tutorials/imgproc/imgtrans/canny_detector/canny_detector.html for a good explanation."
     ]
    },
    {
     "cell_type": "code",
     "collapsed": false,
     "input": [
      "run src/canny"
     ],
     "language": "python",
     "metadata": {},
     "outputs": []
    },
    {
     "cell_type": "code",
     "collapsed": false,
     "input": [
      "run src/dispms -f imagery/cannyedges.tif -d [400,600,400,400] -F imagery/june2001.tif -P [4,5,7] -D [400,600,400,400] -E 4"
     ],
     "language": "python",
     "metadata": {},
     "outputs": []
    },
    {
     "cell_type": "code",
     "collapsed": false,
     "input": [],
     "language": "python",
     "metadata": {},
     "outputs": []
    }
   ],
   "metadata": {}
  }
 ]
}