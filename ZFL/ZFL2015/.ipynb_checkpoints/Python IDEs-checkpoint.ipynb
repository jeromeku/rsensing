{
 "metadata": {
  "name": "",
  "signature": "sha256:16ac2abb9513d9222e99ab2ad1829698dae5a80508d793c6dde0d89d25af7b08"
 },
 "nbformat": 3,
 "nbformat_minor": 0,
 "worksheets": [
  {
   "cells": [
    {
     "cell_type": "heading",
     "level": 1,
     "metadata": {},
     "source": [
      "Python Integrated Development Environments (IDEs)"
     ]
    },
    {
     "cell_type": "heading",
     "level": 2,
     "metadata": {},
     "source": [
      "IDLE"
     ]
    },
    {
     "cell_type": "code",
     "collapsed": false,
     "input": [
      "!C:\\Python27\\Lib\\idlelib\\idle.bat"
     ],
     "language": "python",
     "metadata": {},
     "outputs": []
    },
    {
     "cell_type": "heading",
     "level": 2,
     "metadata": {},
     "source": [
      "Eclipse/Pydev"
     ]
    },
    {
     "cell_type": "code",
     "collapsed": false,
     "input": [
      "!C:\\eclipse\\eclipse.exe"
     ],
     "language": "python",
     "metadata": {},
     "outputs": []
    },
    {
     "cell_type": "heading",
     "level": 2,
     "metadata": {},
     "source": [
      "IPython Notebook"
     ]
    },
    {
     "cell_type": "code",
     "collapsed": false,
     "input": [
      "print \"Hey, that's me!\""
     ],
     "language": "python",
     "metadata": {},
     "outputs": []
    },
    {
     "cell_type": "heading",
     "level": 1,
     "metadata": {},
     "source": [
      "A First Example: Radiometric Normalization"
     ]
    },
    {
     "cell_type": "code",
     "collapsed": false,
     "input": [
      "!dir imagery"
     ],
     "language": "python",
     "metadata": {},
     "outputs": []
    },
    {
     "cell_type": "code",
     "collapsed": false,
     "input": [
      "run src/dispms -f imagery/june2001.tif -p [4,5,6] -e 4"
     ],
     "language": "python",
     "metadata": {},
     "outputs": []
    },
    {
     "cell_type": "code",
     "collapsed": false,
     "input": [
      "run src/dispms -f imagery/june2001.tif -p [4,5,6] -e 1 -F imagery/august2001.img -E 1"
     ],
     "language": "python",
     "metadata": {},
     "outputs": []
    },
    {
     "cell_type": "markdown",
     "metadata": {},
     "source": [
      "Now we run the iterated MAD change detection algorithm on the two images"
     ]
    },
    {
     "cell_type": "code",
     "collapsed": false,
     "input": [
      "run src/iMad imagery/june2001.tif imagery/august2001.img"
     ],
     "language": "python",
     "metadata": {},
     "outputs": []
    },
    {
     "cell_type": "code",
     "collapsed": false,
     "input": [
      "run src/dispms -f imagery/MAD(june2001-august2001.img).tif -p [4,5,6] -e 3 -F imagery/MAD(june2001-august2001.img).tif -P [7,7,7] -E 3"
     ],
     "language": "python",
     "metadata": {},
     "outputs": []
    },
    {
     "cell_type": "markdown",
     "metadata": {},
     "source": [
      "Now we use the no-change (invariant) pixels to do a realtive radiometric normalization, see \n",
      "\n",
      "http://www2.imm.dtu.dk/pubdb/views/publication_details.php?id=5362"
     ]
    },
    {
     "cell_type": "code",
     "collapsed": false,
     "input": [
      "run src/radcal imagery/MAD(june2001-august2001.img).tif"
     ],
     "language": "python",
     "metadata": {},
     "outputs": []
    },
    {
     "cell_type": "code",
     "collapsed": false,
     "input": [
      "run src/dispms -f imagery/june2001.tif -p [4,5,6] -e 1 -F imagery/august2001_norm.img -E 1"
     ],
     "language": "python",
     "metadata": {},
     "outputs": []
    },
    {
     "cell_type": "code",
     "collapsed": false,
     "input": [
      "run src/radcal -h"
     ],
     "language": "python",
     "metadata": {},
     "outputs": []
    },
    {
     "cell_type": "code",
     "collapsed": false,
     "input": [],
     "language": "python",
     "metadata": {},
     "outputs": []
    }
   ],
   "metadata": {}
  }
 ]
}