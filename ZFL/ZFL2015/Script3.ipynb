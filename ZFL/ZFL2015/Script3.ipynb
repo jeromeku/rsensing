{
 "metadata": {
  "name": "",
  "signature": "sha256:347265a23239fc9fc5a4e52423ad3fa7a641d2e452e5cb5643a0d5e39016195c"
 },
 "nbformat": 3,
 "nbformat_minor": 0,
 "worksheets": [
  {
   "cells": [
    {
     "cell_type": "markdown",
     "metadata": {},
     "source": [
      "# Python Scripts for Image Analysis 3: Supervised classification\n",
      "## (Shapefiles, Neural network, Support Vector Machine, Cross-validation (parallel computing)"
     ]
    },
    {
     "cell_type": "code",
     "collapsed": false,
     "input": [
      "import numpy as np\n",
      "from osgeo import gdal\n",
      "from osgeo.gdalconst import GA_ReadOnly\n",
      "from shapely.geometry import asPolygon, MultiPoint\n",
      "import shapefile"
     ],
     "language": "python",
     "metadata": {},
     "outputs": []
    },
    {
     "cell_type": "code",
     "collapsed": false,
     "input": [
      "run src/dispms -f imagery/may0107 -p [3,2,1] -e 3 -F imagery/may0107 -P [4,7,9] -E 3"
     ],
     "language": "python",
     "metadata": {},
     "outputs": []
    },
    {
     "cell_type": "code",
     "collapsed": false,
     "input": [
      "run src/dispms -f imagery/may0107pca.tif -p [1,2,3] -e 3"
     ],
     "language": "python",
     "metadata": {},
     "outputs": []
    },
    {
     "cell_type": "markdown",
     "metadata": {},
     "source": [
      "###Training regions from May 1, 2007.\n",
      "<img src=\"fig6_3.png\">"
     ]
    },
    {
     "cell_type": "markdown",
     "metadata": {},
     "source": [
      "### Feed-forward neural network classifier\n",
      "<img src=\"fig6_10.png\">"
     ]
    },
    {
     "cell_type": "heading",
     "level": 2,
     "metadata": {},
     "source": [
      "Reading the training data shapefile"
     ]
    },
    {
     "cell_type": "code",
     "collapsed": false,
     "input": [
      "r = shapefile.Reader('imagery/train')\n",
      "shapes = r.shapes()\n",
      "records = r.records()"
     ],
     "language": "python",
     "metadata": {},
     "outputs": []
    },
    {
     "cell_type": "code",
     "collapsed": false,
     "input": [
      "print 'Name      ClassID  Num pts'\n",
      "print '-------------------------'\n",
      "for record,shape in zip(records,shapes):\n",
      "    print '%s    %s     %i'%( record[0], record[1], len(shape.points))                               "
     ],
     "language": "python",
     "metadata": {},
     "outputs": []
    },
    {
     "cell_type": "heading",
     "level": 4,
     "metadata": {},
     "source": [
      "The first training region in UTM coordinates (easting, northing)"
     ]
    },
    {
     "cell_type": "code",
     "collapsed": false,
     "input": [
      "boundary = np.array(shapes[0].points)\n",
      "boundary"
     ],
     "language": "python",
     "metadata": {},
     "outputs": []
    },
    {
     "cell_type": "code",
     "collapsed": false,
     "input": [
      "gdal.AllRegister()\n",
      "inDataset = gdal.Open('imagery/may0107pca.tif',GA_ReadOnly)\n",
      "gt = inDataset.GetGeoTransform()\n",
      "print gt"
     ],
     "language": "python",
     "metadata": {},
     "outputs": []
    },
    {
     "cell_type": "markdown",
     "metadata": {},
     "source": [
      "Geotransform relates geographic coordinates $(u,v)$ to pixel coorsinates $(x,y)$\n",
      "\n",
      "\n",
      "$\n",
      "\\pmatrix{u\\cr v} = \\pmatrix{gt_1 & gt_2\\cr gt_4 & gt_5}\\cdot\\pmatrix{x\\cr y} + \\pmatrix{gt_0\\cr gt_3}\n",
      "$\n",
      "\n",
      "So, inverting,\n",
      "\n",
      "$\n",
      "\\pmatrix{x\\cr y} = \\pmatrix{gt_1 & gt_2\\cr gt_4 & gt_5}^{-1}\\cdot\\left(\\pmatrix{u\\cr v} - \\pmatrix{gt_0\\cr gt_3}\\right)\n",
      "$"
     ]
    },
    {
     "cell_type": "heading",
     "level": 4,
     "metadata": {},
     "source": [
      "The first trainig region in image pixel coordinates"
     ]
    },
    {
     "cell_type": "code",
     "collapsed": false,
     "input": [
      "U = np.mat([[gt[1],gt[2]],[gt[4],gt[5]]])\n",
      "print U\n",
      "boundary[:,0] -= gt[0]\n",
      "boundary[:,1] -= gt[3]\n",
      "bdry = ( U.I * boundary.T ).T\n",
      "bdry"
     ],
     "language": "python",
     "metadata": {},
     "outputs": []
    },
    {
     "cell_type": "heading",
     "level": 4,
     "metadata": {},
     "source": [
      "The pixel coordinates of the training data"
     ]
    },
    {
     "cell_type": "code",
     "collapsed": false,
     "input": [
      "polygon = asPolygon(bdry)\n",
      "minx,miny,maxx,maxy = map(int,list(polygon.bounds))\n",
      "pts=[]\n",
      "for i in range(minx,maxx+1):\n",
      "    for j in range(miny,maxy+1): \n",
      "        pts.append((i,j))             \n",
      "multipt =  MultiPoint(pts) \n",
      "roi = np.array(multipt.intersection(polygon),dtype=np.int)\n",
      "print roi"
     ],
     "language": "python",
     "metadata": {},
     "outputs": []
    },
    {
     "cell_type": "heading",
     "level": 2,
     "metadata": {},
     "source": [
      "Supervised classification"
     ]
    },
    {
     "cell_type": "code",
     "collapsed": false,
     "input": [
      "run src/classify"
     ],
     "language": "python",
     "metadata": {},
     "outputs": []
    },
    {
     "cell_type": "code",
     "collapsed": false,
     "input": [
      "run /python/zfl2015/src/ct"
     ],
     "language": "python",
     "metadata": {},
     "outputs": []
    },
    {
     "cell_type": "markdown",
     "metadata": {},
     "source": [
      "##Supervised classification with 10-fold cross-validation\n",
      "\n",
      "http://ipython.org/ipython-doc/dev/parallel/"
     ]
    },
    {
     "cell_type": "code",
     "collapsed": false,
     "input": [
      "run src/classify_cv -h"
     ],
     "language": "python",
     "metadata": {},
     "outputs": []
    },
    {
     "cell_type": "code",
     "collapsed": false,
     "input": [
      "run src/classify_cv -p [1,2,3,4] -a 3 imagery/may0107pca.tif imagery/train.shp"
     ],
     "language": "python",
     "metadata": {},
     "outputs": []
    },
    {
     "cell_type": "code",
     "collapsed": false,
     "input": [
      "run src/dispms -f imagery/may0107pca_class.tif -c "
     ],
     "language": "python",
     "metadata": {},
     "outputs": []
    },
    {
     "cell_type": "code",
     "collapsed": false,
     "input": [
      "run src/colortable imagery/train.shp"
     ],
     "language": "python",
     "metadata": {},
     "outputs": []
    },
    {
     "cell_type": "code",
     "collapsed": false,
     "input": [],
     "language": "python",
     "metadata": {},
     "outputs": []
    }
   ],
   "metadata": {}
  }
 ]
}