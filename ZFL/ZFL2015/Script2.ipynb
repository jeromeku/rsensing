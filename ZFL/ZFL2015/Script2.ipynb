{
 "metadata": {
  "name": "",
  "signature": "sha256:4dd272c1e1a66497923c6ba76c603bf966ed44708853fc054051413817d749a1"
 },
 "nbformat": 3,
 "nbformat_minor": 0,
 "worksheets": [
  {
   "cells": [
    {
     "cell_type": "heading",
     "level": 1,
     "metadata": {},
     "source": [
      "Python Scripts for Image Analysis 2: Solar illumination correction in rough terrain"
     ]
    },
    {
     "cell_type": "markdown",
     "metadata": {},
     "source": [
      "Topographic modeling can be used to correct images for the effects of local solar illumination.\n",
      "The local illumination depends not only upon the sun's position (elevation and azimuth) but also upon the slope and aspect\n",
      "of the terrain being illuminated. The Figure below shows the angles involved.  \n",
      "\n",
      "<img src=\"solarincidence.png\">\n",
      "<b>Figure 1</b> Angles involved in computation of local solar incidence: \n",
      "$\\theta_z=$ solar zenith angle, $\\phi_a=$ solar azimuth,\n",
      "$\\theta_p=$ slope, $\\phi_o=$ aspect, $\\gamma_i=$ local solar incidence angle.\n",
      "</br></br>\n",
      "\n",
      "The quantity to be determined is the local solar incidence angle $\\gamma_i$, which determines the local irradiance.\n",
      "From trigonometry we can calculate the relation\n",
      "\n",
      "$$\n",
      "\\cos\\gamma_i = \\cos\\theta_p\\cos\\theta_z + \\sin\\theta_p\\sin\\theta_z\\cos(\\phi_a-\\phi_o).\n",
      "$$\n",
      "\n",
      "For a Lambertian  surface,\n",
      "the reflected radiance $L_H$ from a horizontal surface toward a sensor (ignoring all atmospheric effects)\n",
      "is given by \n",
      "\n",
      "$$\n",
      "L_H = E\\cdot\\cos\\theta_z\\cdot R.\n",
      "$$\n",
      "\n",
      "For a surface in rough terrain the reflected radiance $L_T$ is similarly\n",
      "\n",
      "$$\n",
      "L_T = E\\cdot\\cos\\gamma_i\\cdot R,\n",
      "$$\n",
      "\n",
      "thus giving the standard <b>cosine correction</b> relating the observed radiance $L_T$ to that which would have\n",
      "been observed had the terrain been flat, namely\n",
      "\n",
      "$$\n",
      "L_H = L_T{\\cos\\theta_z\\over\\cos\\gamma_i}.\n",
      "$$\n",
      "\n",
      "The Lambertian assumption is in general a poor approximation, the actual reflectance being governed by a\n",
      "bidirectional reflectance distribution function (BRDF), which describes the dependence of reflectance\n",
      "on both illumination and viewing angles as well as on wavelength. Particularly for the large\n",
      "range of incident angles involved with rough terrain, the cosine correction will over- or underestimate\n",
      "the extremes and lead to unwanted artifacts in the corrected imagery.\n",
      "\n",
      "An example of an  approach which takes better account of  BRDF\n",
      "effects is the <b>semiempirical cosine correction</b> (C-correction) method. We replace\n",
      "Equations above for $L_H$ and $L_T$ by\n",
      "\n",
      "$$\n",
      "L_H = m\\cdot \\cos\\theta_z + b, \\quad  L_T = m\\cdot \\cos\\gamma_i + b.\n",
      "$$\n",
      "\n",
      "The empirical parameters $m$ and  $b$ can be estimated from a linear regression of observed radiance $L_T$ vs.\\\n",
      "$\\cos\\gamma_i$ for a particular image band.\n",
      "Then, we can write\n",
      "\n",
      "$$\n",
      "L_H = L_T\\left({\\cos\\theta_z + b/m\\over \\cos\\gamma_i + b/m}\\right)\n",
      "$$\n",
      "\n",
      "as a correction formula. \n",
      "\n",
      "The main difficulty with this method is estimating the slope $m$ and intercept $b$ reliably since the natural\n",
      "spread in ground reflectance will tend to mask any correlation with local solar incidence angle. The approach adopted here\n",
      "is to precede the calculation with an unsupervised segmentation of the image into a small number of land-cover classes and\n",
      "then to estimate the regression coefficients separately for each class and each spectral band. Only if the correlation exceeds a threshold (0.2) are the image pixels corrected."
     ]
    },
    {
     "cell_type": "code",
     "collapsed": false,
     "input": [
      "run src/dispms -f imagery/19840717 -p [4,5,7] -d [3000,2000,3000,3000] -e 3"
     ],
     "language": "python",
     "metadata": {},
     "outputs": []
    },
    {
     "cell_type": "code",
     "collapsed": false,
     "input": [
      "run src/pca -d [3154,4122,1000,1000] -p [1,2,3,4,5,7] imagery/19840717"
     ],
     "language": "python",
     "metadata": {},
     "outputs": []
    },
    {
     "cell_type": "code",
     "collapsed": false,
     "input": [
      "run src/dispms -f imagery/19840717_pca -p [1,2,3] -e 3"
     ],
     "language": "python",
     "metadata": {},
     "outputs": []
    },
    {
     "cell_type": "code",
     "collapsed": false,
     "input": [
      "run src/em -K 3 -p [1,2,3,4] imagery/19840717_pca"
     ],
     "language": "python",
     "metadata": {},
     "outputs": []
    },
    {
     "cell_type": "code",
     "collapsed": false,
     "input": [
      "run src/dispms -f imagery/19840717_pca_em -c"
     ],
     "language": "python",
     "metadata": {},
     "outputs": []
    },
    {
     "cell_type": "code",
     "collapsed": false,
     "input": [
      "%load src/c_corr.py"
     ],
     "language": "python",
     "metadata": {},
     "outputs": []
    },
    {
     "cell_type": "code",
     "collapsed": false,
     "input": [
      "run src/c_corr -d [3154,4122,1000,1000] -p [1,2,3,4,5,7] -c imagery/19840717_pca_em 132.9 54.9 imagery/19840717 imagery/dem_utm"
     ],
     "language": "python",
     "metadata": {},
     "outputs": []
    },
    {
     "cell_type": "code",
     "collapsed": false,
     "input": [
      "run src/dispms -f imagery/19840717 -d [3154,4122,1000,1000] -p [4,4,4] -e 3 -F imagery/19840717_corr -P [4,4,4] -E 3"
     ],
     "language": "python",
     "metadata": {},
     "outputs": []
    },
    {
     "cell_type": "code",
     "collapsed": false,
     "input": [
      "run src/dispms -f imagery/cosgamma -e 4"
     ],
     "language": "python",
     "metadata": {},
     "outputs": []
    },
    {
     "cell_type": "code",
     "collapsed": false,
     "input": [],
     "language": "python",
     "metadata": {},
     "outputs": []
    }
   ],
   "metadata": {}
  }
 ]
}